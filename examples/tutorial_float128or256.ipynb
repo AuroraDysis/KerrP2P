{
 "cells": [
  {
   "cell_type": "code",
   "execution_count": 1,
   "metadata": {},
   "outputs": [
    {
     "name": "stdout",
     "output_type": "stream",
     "text": [
      "70\n"
     ]
    }
   ],
   "source": [
    "import py_forward_ray_tracing as rt\n",
    "\n",
    "from mpmath import mp\n",
    "# 113 for quad precision, 237 for oct precision\n",
    "mp.prec = 237\n",
    "print(mp.dps)\n",
    "\n",
    "import numpy as np\n",
    "import matplotlib.pyplot as plt\n",
    "\n",
    "plt.rcParams.update({\n",
    "    \"text.usetex\": True,\n",
    "    #\"font.family\": \"sans-serif\",\n",
    "    \"font.sans-serif\": [\"Helvetica\"],\n",
    "    \"axes.prop_cycle\": plt.cycler('color', ['k', 'r', 'b', 'g'])})"
   ]
  },
  {
   "cell_type": "code",
   "execution_count": 2,
   "metadata": {},
   "outputs": [],
   "source": [
    "def rc_range(a):\n",
    "    return (4 * (mp.cos(mp.acos(-a) / 3)) ** 2 + 1e-6, 4 * (mp.cos(mp.acos(a) / 3)) ** 2 - 1e-6)"
   ]
  },
  {
   "cell_type": "code",
   "execution_count": 3,
   "metadata": {},
   "outputs": [],
   "source": [
    "params = rt.ForwardRayTracingParamsFloat256()\n",
    "params.a.value = \"0.8\"\n",
    "params.r_s.value = \"10\"\n",
    "params.theta_s.value = mp.nstr(mp.mpf(\"85\") * mp.pi / mp.mpf(\"180\"), 50)\n",
    "params.r_o.value = \"1000\"\n",
    "params.nu_r = rt.Sign.NEGATIVE\n",
    "params.nu_theta = rt.Sign.NEGATIVE\n",
    "theta_o = mp.nstr(mp.mpf(\"17\") * mp.pi / mp.mpf(\"180\"), 50)\n",
    "phi_o = mp.pi / 4"
   ]
  },
  {
   "cell_type": "code",
   "execution_count": 5,
   "metadata": {},
   "outputs": [
    {
     "name": "stdout",
     "output_type": "stream",
     "text": [
      "state =  RayStatus.NORMAL\n",
      "theta_f = 1.013625321456910653740165157690347592504928145078421583360706603826858999\n",
      "phi_f = -7.669391992178236722627201821501194307686810871790241016892148668403318677\n",
      "eta = 25.82591200914723037017907142807586628405042549149806204326561164150284678\n",
      "lambda = -2.693145158886590698787318264577822185326349709268702434815179988154501471\n"
     ]
    }
   ],
   "source": [
    "params.rc.value = '3.2'\n",
    "params.log_abs_d.value = '-2'\n",
    "params.d_sign = rt.Sign.POSITIVE\n",
    "params.rc_d_to_lambda_q()\n",
    "res = rt.calc_ray_Float256(params)\n",
    "\n",
    "print(\"state = \", res.ray_status)\n",
    "print(\"theta_f =\", res.theta_f)\n",
    "print(\"phi_f =\", res.phi_f)\n",
    "print(\"eta =\", res.eta)\n",
    "print(\"lambda =\", res.lam)"
   ]
  },
  {
   "cell_type": "code",
   "execution_count": 12,
   "metadata": {
    "scrolled": true
   },
   "outputs": [
    {
     "name": "stdout",
     "output_type": "stream",
     "text": [
      "success =  True\n",
      "state =  RayStatus.NORMAL\n",
      "theta_f = 0.999999999999999999999999999999999999999999999999999999999999999999995685\n",
      "phi_f = -7.666370614359172953850573533118011536788677597500423283899778369231260869\n",
      "eta = 25.97988675051587839700975433042132624046096556271610552280048990223371474\n",
      "lambda = -2.625865276496230026911487361320512009277908046445049931246559261386263434\n"
     ]
    }
   ],
   "source": [
    "tol = rt.Float256(\"1e-60\")\n",
    "res2 = rt.find_root_Float256(params, rt.Float256(\"1.0\"), rt.Float256(\"4.9\"), tol)\n",
    "\n",
    "print(\"success = \", res2.success)\n",
    "if res2.success:\n",
    "  root = res2.root\n",
    "  print(\"state = \", root.ray_status)\n",
    "  print(\"theta_f =\", root.theta_f)\n",
    "  print(\"phi_f =\", root.phi_f)\n",
    "  print(\"eta =\", root.eta)\n",
    "  print(\"lambda =\", root.lam)"
   ]
  },
  {
   "cell_type": "code",
   "execution_count": 13,
   "metadata": {},
   "outputs": [
    {
     "data": {
      "text/plain": [
       "-2"
      ]
     },
     "execution_count": 13,
     "metadata": {},
     "output_type": "execute_result"
    }
   ],
   "source": [
    "period = int(mp.floor(mp.mpf(root.phi_f.value) / (2 * mp.pi)))\n",
    "period"
   ]
  },
  {
   "cell_type": "code",
   "execution_count": 14,
   "metadata": {},
   "outputs": [
    {
     "name": "stdout",
     "output_type": "stream",
     "text": [
      "success =  True\n",
      "state =  RayStatus.NORMAL\n",
      "theta_f = 1.099999999999999999999999999999999999999999999999999999999999999999996282\n",
      "phi_f = -7.666370614359172953850573533118011536788677597500423283899778369231261956\n",
      "eta = 22.8286570984017720685450469280456518903182233836384149488031584469493092\n",
      "lambda = -3.600832531298607517950921820888510104094967157292727834830189051162773113\n"
     ]
    }
   ],
   "source": [
    "tol = rt.Float256(\"1e-60\")\n",
    "res3 = rt.find_root_period_Float256(params, period, rt.Float256(\"1.1\"), rt.Float256('4.9'), tol)\n",
    "\n",
    "print(\"success = \", res3.success)\n",
    "if res3.success:\n",
    "  root = res3.root\n",
    "  print(\"state = \", root.ray_status)\n",
    "  print(\"theta_f =\", root.theta_f)\n",
    "  print(\"phi_f =\", root.phi_f)\n",
    "  print(\"eta =\", root.eta)\n",
    "  print(\"lambda =\", root.lam)"
   ]
  }
 ],
 "metadata": {
  "kernelspec": {
   "display_name": "Python 3 (ipykernel)",
   "language": "python",
   "name": "python3"
  },
  "language_info": {
   "codemirror_mode": {
    "name": "ipython",
    "version": 3
   },
   "file_extension": ".py",
   "mimetype": "text/x-python",
   "name": "python",
   "nbconvert_exporter": "python",
   "pygments_lexer": "ipython3",
   "version": "3.11.5"
  }
 },
 "nbformat": 4,
 "nbformat_minor": 4
}
