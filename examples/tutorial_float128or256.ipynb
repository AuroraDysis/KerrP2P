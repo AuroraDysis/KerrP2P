{
 "cells": [
  {
   "cell_type": "code",
   "execution_count": 1,
   "metadata": {},
   "outputs": [
    {
     "name": "stdout",
     "output_type": "stream",
     "text": [
      "70\n"
     ]
    }
   ],
   "source": [
    "import pykerrp2p as rt\n",
    "\n",
    "from mpmath import mp\n",
    "# 113 for quad precision, 237 for oct precision\n",
    "mp.prec = 237\n",
    "print(mp.dps)\n",
    "\n",
    "import numpy as np\n",
    "import matplotlib.pyplot as plt\n",
    "\n",
    "plt.rcParams.update({\n",
    "    \"text.usetex\": True,\n",
    "    #\"font.family\": \"sans-serif\",\n",
    "    \"font.sans-serif\": [\"Helvetica\"],\n",
    "    \"axes.prop_cycle\": plt.cycler('color', ['k', 'r', 'b', 'g'])})"
   ]
  },
  {
   "cell_type": "code",
   "execution_count": 2,
   "metadata": {},
   "outputs": [],
   "source": [
    "def rc_range(a):\n",
    "    return (\n",
    "        4 * mp.power(mp.cos(mp.acos((-a).value)/3), 2) + mp.mpf(\"1e-10\"), \n",
    "        4 * mp.power(mp.cos(mp.acos(a.value)/3), 2) - mp.mpf(\"1e-10\")\n",
    "    )\n",
    "\n",
    "def sign_to_num(x):\n",
    "    if x == rt.Sign.POSITIVE: return +1\n",
    "    elif x == rt.Sign.NEGATIVE: return -1\n",
    "    else: return np.nan\n",
    "        \n",
    "def conserve_to_ob(a, lam, eta, theta_o, nu_theta_o): ## nu_theta_o takes number +1 or -1\n",
    "    alpha = -lam / mp.sin(theta_o.value)\n",
    "    beta = nu_theta_o * mp.sqrt((eta + mp.power(a.value,2) * mp.power(mp.cos(theta_o.value),2) - mp.power(lam.value,2) / mp.power(mp.tan(theta_o.value),2)).value)\n",
    "    return alpha, beta"
   ]
  },
  {
   "cell_type": "markdown",
   "metadata": {},
   "source": [
    "# Basic Usages"
   ]
  },
  {
   "cell_type": "code",
   "execution_count": 3,
   "metadata": {},
   "outputs": [
    {
     "name": "stdout",
     "output_type": "stream",
     "text": [
      "Notice that we fixed phi_s = 0 in this code for simplicity.\n"
     ]
    }
   ],
   "source": [
    "\"\"\"set parameters\"\"\"\n",
    "print(\"Notice that we fixed phi_s = 0 in this code for simplicity.\")\n",
    "params = rt.ForwardRayTracingParamsFloat256()\n",
    "params.a.value = \"0.8\"\n",
    "params.r_s.value = \"10\"\n",
    "params.theta_s.value = mp.nstr(mp.mpf(\"89.9\") * mp.pi / mp.mpf(\"180\"), mp.dps)\n",
    "params.nu_r = rt.Sign.NEGATIVE\n",
    "params.nu_theta = rt.Sign.NEGATIVE\n",
    "params.r_o.value = \"1000\""
   ]
  },
  {
   "cell_type": "code",
   "execution_count": null,
   "metadata": {},
   "outputs": [],
   "source": []
  },
  {
   "cell_type": "code",
   "execution_count": 4,
   "metadata": {},
   "outputs": [
    {
     "name": "stdout",
     "output_type": "stream",
     "text": [
      "      lam:  -2.761619769027745661530993527119575813019392684677938312749743077808627572\n",
      "      eta:  28.94863977029793708640849394628577214858643487686645577302665589675438619\n",
      "        q:  5.380394016268505319660997745745719523712113041442710108352492691663132135 \n",
      "\n",
      "    state:  RayStatus.NORMAL\n",
      "  theta_f:  2.540356981852811433239965351624448074503589797116938207125546754473732558\n",
      "    phi_f:  -4.977691330899621738118787843880283016294704894811339441673536443371582238\n",
      "      t_f:  1038.026055852392155889009521913993125083448695499504030846463625492776947\n",
      "        n:  1.622843009206923658546106643472402987961343388443649569242595191788983888\n"
     ]
    }
   ],
   "source": [
    "\"\"\"calculate the final direction of a ray given source position and (rc,d)\"\"\"\n",
    "params.rc.value = '3.2'\n",
    "params.log_abs_d.value = '-0.5' ## 'log' takes 10 as the base\n",
    "params.d_sign = rt.Sign.POSITIVE\n",
    "params.calc_t_f = True\n",
    "params.rc_d_to_lambda_q()\n",
    "res = rt.calc_ray_Float256(params)\n",
    "\n",
    "print(\"%11s\" % \"lam: \", params.lam)\n",
    "print(\"%11s\" % \"eta: \", params.q*params.q)\n",
    "print(\"%11s\" % \"q: \", params.q, \"\\n\")\n",
    "print(\"%11s\" % \"state: \", res.ray_status)\n",
    "print(\"%11s\" % \"theta_f: \", res.theta_f)\n",
    "print(\"%11s\" % \"phi_f: \", res.phi_f)\n",
    "print(\"%11s\" % \"t_f: \", res.t_f)\n",
    "print(\"%11s\" % \"n: \", res.n_half)"
   ]
  },
  {
   "cell_type": "code",
   "execution_count": 5,
   "metadata": {},
   "outputs": [
    {
     "name": "stdout",
     "output_type": "stream",
     "text": [
      "-1\n",
      "alpha:  4.882103132446983272544693227635212842362753962143566301401060960459149077\n",
      "beta:  -3.629802686203412622404963385292413100659349112952641096544207197081656\n"
     ]
    }
   ],
   "source": [
    "\"\"\"impact parameters of the image\"\"\"\n",
    "nu_theta_o = sign_to_num(params.nu_theta) * (-1)**res.m\n",
    "al, be = conserve_to_ob(params.a, params.lam, params.q*params.q, res.theta_f, nu_theta_o)\n",
    "print(nu_theta_o)\n",
    "print(\"alpha: \", al)\n",
    "print(\"beta: \", be)"
   ]
  },
  {
   "cell_type": "code",
   "execution_count": null,
   "metadata": {},
   "outputs": [],
   "source": []
  },
  {
   "cell_type": "code",
   "execution_count": 6,
   "metadata": {},
   "outputs": [
    {
     "data": {
      "text/plain": [
       "1.2831853071795862"
      ]
     },
     "execution_count": 6,
     "metadata": {},
     "output_type": "execute_result"
    }
   ],
   "source": [
    "\"\"\"find_root_Float256: treat phi and phi + 2pi as equivalent\"\"\"\n",
    "theta_target = 2.5\n",
    "phi_target_normalized = -5.0 % (2*np.pi)\n",
    "phi_target_normalized"
   ]
  },
  {
   "cell_type": "code",
   "execution_count": 7,
   "metadata": {},
   "outputs": [
    {
     "name": "stdout",
     "output_type": "stream",
     "text": [
      "success =  True \n",
      "\n",
      "       rc:  3.223886426223163269959399709991144305302717373920741116041822934146217398\n",
      "log_abs_d:  -0.5195408229505847985119904090573119865910841801314606806701126931863143428\n",
      "      lam:  -2.903346700089067288865175659152336288824652674863372687641640772619804679\n",
      "      eta:  28.42412350227013048410573013654112176069004147118303146737257975472478821\n",
      "        q:  5.331427904630253038090085297767850979410644649064304463254788441865 \n",
      "\n",
      "    state:  RayStatus.NORMAL\n",
      "  theta_f:  2.499999999999999999999999999999999999999999999999999999999999999999999801\n",
      "    phi_f:  -5.000000000000000276925286766559005768394338798750211641949889184615635615\n",
      "      t_f:  1038.237286327342515026380075321202215656745924216673923924556344906537321\n",
      "        n:  1.634704676809194489597927040640992587358328713562945690211353346076707439\n"
     ]
    }
   ],
   "source": [
    "tol = rt.Float256(\"1e-60\") ## residue tolerance \n",
    "res2 = rt.find_root_Float256(params, rt.Float256(mp.nstr(theta_target, mp.dps)), rt.Float256(mp.nstr(phi_target_normalized, mp.dps)), tol)\n",
    "\n",
    "print(\"success = \", res2.success,\"\\n\")\n",
    "if res2.success:\n",
    "    root = res2.root\n",
    "    print(\"%11s\" % \"rc: \", root.rc)\n",
    "    print(\"%11s\" % \"log_abs_d: \", root.log_abs_d)\n",
    "    print(\"%11s\" % \"lam: \", root.lam)\n",
    "    print(\"%11s\" % \"eta: \", root.eta)\n",
    "    print(\"%11s\" % \"q: \", mp.sqrt(mp.nstr(root.eta, mp.dps)),\"\\n\")\n",
    "    \n",
    "    print(\"%11s\" % \"state: \", root.ray_status)\n",
    "    print(\"%11s\" % \"theta_f: \", root.theta_f)\n",
    "    print(\"%11s\" % \"phi_f: \", root.phi_f)\n",
    "    print(\"%11s\" % \"t_f: \", root.t_f)\n",
    "    print(\"%11s\" % \"n: \", root.n_half)\n",
    "else:\n",
    "    print(\"fail reason: \", res2.fail_reason)"
   ]
  },
  {
   "cell_type": "code",
   "execution_count": null,
   "metadata": {},
   "outputs": [],
   "source": []
  },
  {
   "cell_type": "code",
   "execution_count": 8,
   "metadata": {},
   "outputs": [
    {
     "data": {
      "text/plain": [
       "(1.2831853071795862, -1)"
      ]
     },
     "execution_count": 8,
     "metadata": {},
     "output_type": "execute_result"
    }
   ],
   "source": [
    "\"\"\"find_root_period_Float256: specify a period number of phi\"\"\"\n",
    "theta_target = 2.5\n",
    "phi_target_normalized = -5.0 % (2*np.pi)\n",
    "period = int(np.floor(-5.0 / (2 * np.pi)))\n",
    "(phi_target_normalized, period)"
   ]
  },
  {
   "cell_type": "code",
   "execution_count": 9,
   "metadata": {},
   "outputs": [
    {
     "name": "stdout",
     "output_type": "stream",
     "text": [
      "success =  True \n",
      "\n",
      "       rc:  3.223886426223163269959399709991144305302717373920741116041822934146217978\n",
      "log_abs_d:  -0.5195408229505847985119904090573119865910841801314606806701126931863140394\n",
      "      lam:  -2.903346700089067288865175659152336288824652674863372687641640772619808319\n",
      "      eta:  28.42412350227013048410573013654112176069004147118303146737257975472478009\n",
      "        q:  5.331427904630253038090085297767850979410644649064304463254788441864999 \n",
      "\n",
      "    state:  RayStatus.NORMAL\n",
      "  theta_f:  2.499999999999999999999999999999999999999999999999999999999999999999999819\n",
      "    phi_f:  -5.000000000000000276925286766559005768394338798750211641949889184615632934\n",
      "      t_f:  1038.23728632734251502638007532120221565674592421667392392455634490653733\n",
      "        n:  1.634704676809194489597927040640992587358328713562945690211353346076707185\n"
     ]
    }
   ],
   "source": [
    "tol = rt.Float256(\"1e-60\") ## residue tolerance \n",
    "res3 = rt.find_root_period_Float256(params, period, rt.Float256(mp.nstr(theta_target, mp.dps)), rt.Float256(mp.nstr(phi_target_normalized, mp.dps)), tol)\n",
    "\n",
    "print(\"success = \", res3.success,\"\\n\")\n",
    "if res3.success:\n",
    "    root = res3.root\n",
    "    print(\"%11s\" % \"rc: \", root.rc)\n",
    "    print(\"%11s\" % \"log_abs_d: \", root.log_abs_d)\n",
    "    print(\"%11s\" % \"lam: \", root.lam)\n",
    "    print(\"%11s\" % \"eta: \", root.eta)\n",
    "    print(\"%11s\" % \"q: \", mp.sqrt(mp.nstr(root.eta, mp.dps)),\"\\n\")\n",
    "    \n",
    "    print(\"%11s\" % \"state: \", root.ray_status)\n",
    "    print(\"%11s\" % \"theta_f: \", root.theta_f)\n",
    "    print(\"%11s\" % \"phi_f: \", root.phi_f)\n",
    "    print(\"%11s\" % \"t_f: \", root.t_f)\n",
    "    print(\"%11s\" % \"n: \", root.n_half)\n",
    "else:\n",
    "    print(\"fail reason: \", res3.fail_reason)"
   ]
  },
  {
   "cell_type": "code",
   "execution_count": null,
   "metadata": {},
   "outputs": [],
   "source": []
  }
 ],
 "metadata": {
  "kernelspec": {
   "display_name": "Python 3 (ipykernel)",
   "language": "python",
   "name": "python3"
  },
  "language_info": {
   "codemirror_mode": {
    "name": "ipython",
    "version": 3
   },
   "file_extension": ".py",
   "mimetype": "text/x-python",
   "name": "python",
   "nbconvert_exporter": "python",
   "pygments_lexer": "ipython3",
   "version": "3.12.4"
  }
 },
 "nbformat": 4,
 "nbformat_minor": 4
}
